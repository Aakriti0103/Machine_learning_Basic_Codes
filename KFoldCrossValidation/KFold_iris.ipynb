{
 "cells": [
  {
   "cell_type": "code",
   "execution_count": 20,
   "id": "a2d84dce-68c0-4afc-b8a3-39d86c612c7b",
   "metadata": {},
   "outputs": [],
   "source": [
    "# Use iris flower dataset from sklearn library and use cross_val_score against following models \n",
    "# to measure the performance of each. In the end figure out the model with best performance,\n",
    "# Logistic Regression\n",
    "# SVM\n",
    "# Decision Tree\n",
    "# Random Forest"
   ]
  },
  {
   "cell_type": "code",
   "execution_count": 21,
   "id": "e22d27cf-7013-4899-8347-2dba135b4edf",
   "metadata": {},
   "outputs": [],
   "source": [
    "from sklearn.datasets import load_iris\n",
    "from sklearn.model_selection import cross_val_score\n",
    "from sklearn.linear_model import LogisticRegression\n",
    "from sklearn.tree import DecisionTreeClassifier\n",
    "from sklearn.svm import SVC\n",
    "from sklearn.ensemble import RandomForestClassifier\n",
    "import numpy as np\n",
    "iris = load_iris()"
   ]
  },
  {
   "cell_type": "code",
   "execution_count": 22,
   "id": "0102d5a2-9b5a-4966-b2aa-43e7d35262ca",
   "metadata": {},
   "outputs": [
    {
     "name": "stderr",
     "output_type": "stream",
     "text": [
      "/Library/Frameworks/Python.framework/Versions/3.12/lib/python3.12/site-packages/sklearn/linear_model/_logistic.py:465: ConvergenceWarning: lbfgs failed to converge (status=1):\n",
      "STOP: TOTAL NO. OF ITERATIONS REACHED LIMIT.\n",
      "\n",
      "Increase the number of iterations (max_iter) or scale the data as shown in:\n",
      "    https://scikit-learn.org/stable/modules/preprocessing.html\n",
      "Please also refer to the documentation for alternative solver options:\n",
      "    https://scikit-learn.org/stable/modules/linear_model.html#logistic-regression\n",
      "  n_iter_i = _check_optimize_result(\n"
     ]
    },
    {
     "data": {
      "text/plain": [
       "array([0.96666667, 1.        , 0.93333333, 0.96666667, 1.        ])"
      ]
     },
     "execution_count": 22,
     "metadata": {},
     "output_type": "execute_result"
    }
   ],
   "source": [
    "# Logistic Regression\n",
    "l_scores = cross_val_score(LogisticRegression(), iris.data, iris.target)\n",
    "l_scores"
   ]
  },
  {
   "cell_type": "code",
   "execution_count": 23,
   "id": "6cc109b9-8663-41d1-92b3-7a09e7cf6e74",
   "metadata": {},
   "outputs": [
    {
     "data": {
      "text/plain": [
       "np.float64(0.9733333333333334)"
      ]
     },
     "execution_count": 23,
     "metadata": {},
     "output_type": "execute_result"
    }
   ],
   "source": [
    "np.average(l_scores)"
   ]
  },
  {
   "cell_type": "code",
   "execution_count": 24,
   "id": "693fb646-dac3-40d3-a8c2-8b706942484c",
   "metadata": {},
   "outputs": [
    {
     "data": {
      "text/plain": [
       "array([0.96666667, 0.96666667, 0.9       , 1.        , 1.        ])"
      ]
     },
     "execution_count": 24,
     "metadata": {},
     "output_type": "execute_result"
    }
   ],
   "source": [
    "# Decision Tree\n",
    "d_scores = cross_val_score(DecisionTreeClassifier(), iris.data, iris.target)\n",
    "d_scores"
   ]
  },
  {
   "cell_type": "code",
   "execution_count": 25,
   "id": "c466ae13-2919-454f-b343-d42074e603ea",
   "metadata": {},
   "outputs": [
    {
     "data": {
      "text/plain": [
       "np.float64(0.9666666666666668)"
      ]
     },
     "execution_count": 25,
     "metadata": {},
     "output_type": "execute_result"
    }
   ],
   "source": [
    "np.average(d_scores)"
   ]
  },
  {
   "cell_type": "code",
   "execution_count": 26,
   "id": "4359ab58-6162-4b3a-af6d-6c58c608c155",
   "metadata": {},
   "outputs": [
    {
     "data": {
      "text/plain": [
       "array([0.96666667, 0.96666667, 0.96666667, 0.93333333, 1.        ])"
      ]
     },
     "execution_count": 26,
     "metadata": {},
     "output_type": "execute_result"
    }
   ],
   "source": [
    "# Support Vector Machine (SVM)\n",
    "s_scores = cross_val_score(SVC(), iris.data, iris.target)\n",
    "s_scores"
   ]
  },
  {
   "cell_type": "code",
   "execution_count": 27,
   "id": "292ca9c4-9454-45e0-8de5-fb8449c48ce4",
   "metadata": {},
   "outputs": [
    {
     "data": {
      "text/plain": [
       "np.float64(0.9666666666666666)"
      ]
     },
     "execution_count": 27,
     "metadata": {},
     "output_type": "execute_result"
    }
   ],
   "source": [
    "np.average(s_scores)"
   ]
  },
  {
   "cell_type": "code",
   "execution_count": 28,
   "id": "67e58ef4-e6c1-49b5-ba71-4d285a064d83",
   "metadata": {},
   "outputs": [
    {
     "data": {
      "text/plain": [
       "array([0.96666667, 0.96666667, 0.93333333, 0.9       , 1.        ])"
      ]
     },
     "execution_count": 28,
     "metadata": {},
     "output_type": "execute_result"
    }
   ],
   "source": [
    "# Random Forest\n",
    "r_scores = cross_val_score(RandomForestClassifier(n_estimators=40), iris.data, iris.target)\n",
    "r_scores"
   ]
  },
  {
   "cell_type": "code",
   "execution_count": 29,
   "id": "506addca-b074-4cd3-a109-94a33b3f280e",
   "metadata": {},
   "outputs": [
    {
     "data": {
      "text/plain": [
       "np.float64(0.9533333333333334)"
      ]
     },
     "execution_count": 29,
     "metadata": {},
     "output_type": "execute_result"
    }
   ],
   "source": [
    "np.average(r_scores)"
   ]
  }
 ],
 "metadata": {
  "kernelspec": {
   "display_name": "Python 3 (ipykernel)",
   "language": "python",
   "name": "python3"
  },
  "language_info": {
   "codemirror_mode": {
    "name": "ipython",
    "version": 3
   },
   "file_extension": ".py",
   "mimetype": "text/x-python",
   "name": "python",
   "nbconvert_exporter": "python",
   "pygments_lexer": "ipython3",
   "version": "3.12.3"
  }
 },
 "nbformat": 4,
 "nbformat_minor": 5
}
